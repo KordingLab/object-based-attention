{
 "cells": [
  {
   "cell_type": "code",
   "execution_count": 1,
   "metadata": {},
   "outputs": [],
   "source": [
    "from visualizations import *\n",
    "from graphs import *"
   ]
  },
  {
   "cell_type": "markdown",
   "metadata": {},
   "source": [
    "# Visualize Attention"
   ]
  },
  {
   "cell_type": "markdown",
   "metadata": {},
   "source": [
    "## Step 1. Choose a Model to Load\n",
    "### Load MNIST Model"
   ]
  },
  {
   "cell_type": "code",
   "execution_count": 25,
   "metadata": {},
   "outputs": [
    {
     "name": "stdout",
     "output_type": "stream",
     "text": [
      "MNIST Object Based Attention Model v2\n",
      "../mnist\n",
      "Data Loaded:\n",
      "\tTraining Samples:  42000\n",
      "\tValidation Samples:  18000\n",
      "\tTesting Samples:  10000\n",
      "\tObjects:  2 \tStrength:  0.2 \tNoise:  0.3 \tResample:  True\n"
     ]
    }
   ],
   "source": [
    "modelpath = \"../saved/models/paper_mnist_model.pt\" #path to the saved model\n",
    "modeltype = \"mnist\" #type of model: 'mnist' or 'coco'\n",
    "n = 2 #number of objects\n",
    "strength = 0.2 #strength of attention\n",
    "net, runner, test_loader = load_model_and_data(modelpath, n = n, strength = strength, modeltype = modeltype)"
   ]
  },
  {
   "cell_type": "markdown",
   "metadata": {},
   "source": [
    "### ... OR Load COCO Model"
   ]
  },
  {
   "cell_type": "code",
   "execution_count": 19,
   "metadata": {},
   "outputs": [
    {
     "name": "stdout",
     "output_type": "stream",
     "text": [
      "COCO Object-Based Attention Model v2\n",
      "loading annotations into memory...\n",
      "Done (t=0.62s)\n",
      "creating index...\n",
      "index created!\n"
     ]
    }
   ],
   "source": [
    "modelpath = \"../saved/models/coco_attention_model3.pt\" #path to the saved model\n",
    "modeltype = \"coco\" #type of model: 'mnist' or 'coco'\n",
    "cocoroot = '../../../../data/jordanlei/coco/images/val2017' #path to the coco val dataset\n",
    "annpath = '../../../../data/jordanlei/coco/annotations/instances_val2017.json' #path to the coco val annotations\n",
    "metadatapath = '../data/metadata/cocometadata_test.p' #path to metadata file (will create one if none exists)\n",
    "\n",
    "n = 2 #number of objects\n",
    "strength = 0.3 #strength of attention\n",
    "net, runner, test_loader = load_model_and_data(modelpath, n = n, strength = strength, modeltype = modeltype,\\\n",
    "                                               cocoroot = cocoroot, annpath = annpath, metadatapath = metadatapath)"
   ]
  },
  {
   "cell_type": "code",
   "execution_count": 33,
   "metadata": {},
   "outputs": [
    {
     "data": {
      "image/png": "[encoded data removed]",
      "text/plain": [
       "<Figure size 432x288 with 1 Axes>"
      ]
     },
     "metadata": {
      "needs_background": "light"
     },
     "output_type": "display_data"
    },
    {
     "data": {
      "image/png": "[encoded data removed]",
      "text/plain": [
       "<Figure size 432x288 with 1 Axes>"
      ]
     },
     "metadata": {
      "needs_background": "light"
     },
     "output_type": "display_data"
    },
    {
     "data": {
      "image/png": "[encoded data removed]",
      "text/plain": [
       "<Figure size 432x288 with 1 Axes>"
      ]
     },
     "metadata": {
      "needs_background": "light"
     },
     "output_type": "display_data"
    },
    {
     "data": {
      "image/png": "[encoded data removed]",
      "text/plain": [
       "<Figure size 432x288 with 1 Axes>"
      ]
     },
     "metadata": {
      "needs_background": "light"
     },
     "output_type": "display_data"
    },
    {
     "data": {
      "image/png": "[encoded data removed]",
      "text/plain": [
       "<Figure size 432x288 with 1 Axes>"
      ]
     },
     "metadata": {
      "needs_background": "light"
     },
     "output_type": "display_data"
    },
    {
     "data": {
      "image/png": "[encoded data removed]",
      "text/plain": [
       "<Figure size 432x288 with 1 Axes>"
      ]
     },
     "metadata": {
      "needs_background": "light"
     },
     "output_type": "display_data"
    }
   ],
   "source": [
    "for i, (x, data, labels) in enumerate(test_loader):\n",
    "    masks, hiddens, ior = runner.visualize(x, data, labels)\n",
    "    \n",
    "    for j, mask in enumerate(masks): \n",
    "        hidden = hiddens[j]\n",
    "        ior_mask = ior[j]\n",
    "        \n",
    "        toshow(mask[0])\n",
    "        toshow(hidden[0])\n",
    "        toshow(ior_mask[0] * 1.0)\n",
    "    break"
   ]
  },
  {
   "cell_type": "code",
   "execution_count": null,
   "metadata": {},
   "outputs": [],
   "source": [
    "net.load_state_dict(torch.load(modelpath))"
   ]
  },
  {
   "cell_type": "markdown",
   "metadata": {},
   "source": [
    "# Plot Graphs"
   ]
  },
  {
   "cell_type": "code",
   "execution_count": null,
   "metadata": {},
   "outputs": [],
   "source": [
    "metric_files = [\"model2.csv\", \"model3.csv\", \"model4.csv\", \"model5.csv\"]"
   ]
  },
  {
   "cell_type": "code",
   "execution_count": null,
   "metadata": {},
   "outputs": [],
   "source": [
    "df = files_to_df(metric_files)\n",
    "df.groupby([\"lr\",\"penalty\"])[\"final_acc\"].mean().unstack()"
   ]
  },
  {
   "cell_type": "code",
   "execution_count": null,
   "metadata": {},
   "outputs": [],
   "source": [
    "df = df[df[\"lr\"] == 0.001]\n",
    "plot_boxplots(df, save = False)"
   ]
  }
 ],
 "metadata": {
  "kernelspec": {
   "display_name": "Python (jordan_env)",
   "language": "python",
   "name": "jordan_env"
  },
  "language_info": {
   "codemirror_mode": {
    "name": "ipython",
    "version": 3
   },
   "file_extension": ".py",
   "mimetype": "text/x-python",
   "name": "python",
   "nbconvert_exporter": "python",
   "pygments_lexer": "ipython3",
   "version": "3.7.4"
  }
 },
 "nbformat": 4,
 "nbformat_minor": 2
}
