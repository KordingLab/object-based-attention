{
 "cells": [
  {
   "cell_type": "code",
   "execution_count": 1,
   "metadata": {},
   "outputs": [],
   "source": [
    "from visualizations import *\n",
    "from graphs import *\n",
    "from scipy.stats import ttest_rel, ttest_ind"
   ]
  },
  {
   "cell_type": "code",
   "execution_count": 14,
   "metadata": {},
   "outputs": [
    {
     "name": "stdout",
     "output_type": "stream",
     "text": [
      "MNIST Object Based Attention Model v2\n",
      "../mnist\n",
      "Data Loaded:\n",
      "\tTraining Samples:  42000\n",
      "\tValidation Samples:  18000\n",
      "\tTesting Samples:  10000\n",
      "\tObjects:  2 \tStrength:  0.2 \tNoise:  0.3 \tResample:  True\n"
     ]
    }
   ],
   "source": [
    "modelpath = \"../saved/models/paper_mnist_model.pt\" #path to the saved model\n",
    "modeltype = \"mnist\" #type of model: 'mnist' or 'coco'\n",
    "n = 2 #number of objects\n",
    "strength = 0.2 #strength of attention\n",
    "net, runner, test_loader = load_model_and_data(modelpath, n = n, strength = strength, modeltype = modeltype)"
   ]
  },
  {
   "cell_type": "code",
   "execution_count": 18,
   "metadata": {},
   "outputs": [
    {
     "name": "stdout",
     "output_type": "stream",
     "text": [
      "COCO Object-Based Attention Model v3\n",
      "loading annotations into memory...\n",
      "Done (t=0.62s)\n",
      "creating index...\n",
      "index created!\n"
     ]
    }
   ],
   "source": [
    "modelpath = \"../saved/models/paper_coco_model.pt\" #path to the saved model\n",
    "modeltype = \"coco\" #type of model: 'mnist' or 'coco'\n",
    "cocoroot = '../../../../data/jordanlei/coco/images/val2017' #path to the coco val dataset\n",
    "annpath = '../../../../data/jordanlei/coco/annotations/instances_val2017.json' #path to the coco val annotations\n",
    "metadatapath = '../data/metadata/cocometadata_test.p' #path to metadata file (will create one if none exists)\n",
    "\n",
    "n = 2 #number of objects\n",
    "strength = 0.5 #strength of attention\n",
    "net, runner, test_loader = load_model_and_data(modelpath, n = n, strength = strength, modeltype = modeltype,\\\n",
    "                                               cocoroot = cocoroot, annpath = annpath, metadatapath = metadatapath)"
   ]
  },
  {
   "cell_type": "code",
   "execution_count": 19,
   "metadata": {},
   "outputs": [
    {
     "name": "stdout",
     "output_type": "stream",
     "text": [
      "0\n",
      "27\n",
      "54\n",
      "81\n",
      "108\n",
      "135\n",
      "162\n",
      "189\n",
      "216\n",
      "243\n",
      "270\n",
      "297\n",
      "324\n",
      "351\n",
      "378\n",
      "405\n",
      "432\n",
      "459\n",
      "486\n",
      "513\n",
      "540\n",
      "567\n",
      "594\n",
      "621\n",
      "648\n",
      "675\n",
      "702\n",
      "729\n",
      "756\n",
      "783\n",
      "810\n"
     ]
    }
   ],
   "source": [
    "loader = DataLoader(test_loader.dataset, batch_size = 1, shuffle = True, num_workers=4)\n",
    "n = 2\n",
    "\n",
    "\n",
    "inhibiteds = []\n",
    "not_inhibiteds = []\n",
    "\n",
    "for i, (x, data, labels) in enumerate(loader):\n",
    "    masks, hiddens, ior, selects_x = runner.visualize(x, data, labels)\n",
    "    x = x.detach().cpu().numpy()\n",
    "    \n",
    "    inhibited = 0\n",
    "    not_inhibited = 0\n",
    "    \n",
    "    for k in range(n):\n",
    "        mask = masks[k]\n",
    "        hidden = hiddens[k]\n",
    "        selectx = selects_x[k]\n",
    "        \n",
    "        targethidden = ((x - selectx + 0.000001) / (x + 0.000001)) / strength\n",
    "        targethidden = (targethidden > 0.5)\n",
    "        \n",
    "        inhibited += np.mean(hidden[targethidden])\n",
    "        not_inhibited += np.mean(hidden[np.logical_not(targethidden)])\n",
    "    \n",
    "    inhibiteds.append(inhibited / n)\n",
    "    not_inhibiteds.append(not_inhibited / n)\n",
    "    \n",
    "    if i % int(len(loader) / 30) == 0: \n",
    "        print(i)\n",
    "    "
   ]
  },
  {
   "cell_type": "code",
   "execution_count": 20,
   "metadata": {},
   "outputs": [],
   "source": [
    "values = inhibiteds + not_inhibiteds\n",
    "labels = [\"Not Attended\"]*len(inhibiteds) + [\"Attended\"]*len(not_inhibiteds)\n",
    "df = pd.DataFrame({\"inhibition\": values, \"condition\": labels})"
   ]
  },
  {
   "cell_type": "code",
   "execution_count": 16,
   "metadata": {},
   "outputs": [],
   "source": [
    "# df = pd.read_csv(\"inhibition_score_mnist.csv\")"
   ]
  },
  {
   "cell_type": "code",
   "execution_count": 34,
   "metadata": {},
   "outputs": [
    {
     "data": {
      "text/plain": [
       "<matplotlib.legend.Legend at 0x7fb2a706d950>"
      ]
     },
     "execution_count": 34,
     "metadata": {},
     "output_type": "execute_result"
    },
    {
     "data": {
      "image/png": "[encoded data removed]",
      "text/plain": [
       "<Figure size 576x360 with 1 Axes>"
      ]
     },
     "metadata": {},
     "output_type": "display_data"
    }
   ],
   "source": [
    "plt.figure(figsize=(8, 5))\n",
    "sns.set_style(\"white\")\n",
    "sns.set_context(\"poster\")\n",
    "sns.histplot(data = df, x = \"inhibition\", hue=\"condition\")\n",
    "plt.ylabel(\"Frequency\")\n",
    "plt.xlabel(\"Attention Gating (%)\")\n",
    "plt.legend([\"Attended\", \"Not Attended\"])"
   ]
  },
  {
   "cell_type": "code",
   "execution_count": null,
   "metadata": {},
   "outputs": [],
   "source": [
    "stat, p = ttest_rel(inhibiteds, not_inhibiteds)\n",
    "print(\"\\tT Statistic %s\\tP Value: %s\"%(stat, p))"
   ]
  },
  {
   "cell_type": "code",
   "execution_count": null,
   "metadata": {},
   "outputs": [],
   "source": []
  }
 ],
 "metadata": {
  "kernelspec": {
   "display_name": "Python 3",
   "language": "python",
   "name": "python3"
  },
  "language_info": {
   "codemirror_mode": {
    "name": "ipython",
    "version": 3
   },
   "file_extension": ".py",
   "mimetype": "text/x-python",
   "name": "python",
   "nbconvert_exporter": "python",
   "pygments_lexer": "ipython3",
   "version": "3.7.4"
  }
 },
 "nbformat": 4,
 "nbformat_minor": 2
}
