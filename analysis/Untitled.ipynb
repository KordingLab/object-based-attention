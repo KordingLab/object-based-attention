{
 "cells": [
  {
   "cell_type": "code",
   "execution_count": 1,
   "metadata": {},
   "outputs": [],
   "source": [
    "from graphs import *"
   ]
  },
  {
   "cell_type": "code",
   "execution_count": 2,
   "metadata": {},
   "outputs": [
    {
     "name": "stdout",
     "output_type": "stream",
     "text": [
      "COCO Object-Based Attention Model v3\n",
      "loading annotations into memory...\n",
      "Done (t=0.46s)\n",
      "creating index...\n",
      "index created!\n"
     ]
    }
   ],
   "source": [
    "modelpath = \"../saved/models/paper_coco_model.pt\" #path to the saved model\n",
    "modeltype = \"coco\" #type of model: 'mnist' or 'coco'\n",
    "cocoroot = '../../../../data/jordanlei/coco/images/val2017' #path to the coco val dataset\n",
    "annpath = '../../../../data/jordanlei/coco/annotations/instances_val2017.json' #path to the coco val annotations\n",
    "metadatapath = '../data/metadata/cocometadata_test.p' #path to metadata file (will create one if none exists)\n",
    "\n",
    "\n",
    "n = 2 #number of objects\n",
    "strength = 0.3 #strength of attention\n",
    "net, runner, test_loader = load_model_and_data(modelpath, n = n, strength = strength, modeltype = modeltype,\\\n",
    "                                               cocoroot = cocoroot, annpath = annpath, metadatapath = metadatapath)"
   ]
  },
  {
   "cell_type": "code",
   "execution_count": 3,
   "metadata": {},
   "outputs": [],
   "source": [
    "def get_train_val_split(coco_dataset, split = 0.7):\n",
    "    len_dataset = len(coco_dataset)\n",
    "    len_train = int(split*len_dataset)\n",
    "    len_val = len_dataset - len_train\n",
    "    train, val = torch.utils.data.random_split(coco_dataset, [len_train, len_val])\n",
    "    return train, val"
   ]
  },
  {
   "cell_type": "code",
   "execution_count": 4,
   "metadata": {},
   "outputs": [
    {
     "name": "stdout",
     "output_type": "stream",
     "text": [
      "loading annotations into memory...\n",
      "Done (t=12.28s)\n",
      "creating index...\n",
      "index created!\n"
     ]
    }
   ],
   "source": [
    "torch.manual_seed(100)\n",
    "n = 2 #number of objects\n",
    "strength = 0.3 #strength of attention\n",
    "cocoroot = '../../../../data/jordanlei/coco/images/train2017' #path to the coco val dataset\n",
    "annpath = '../../../../data/jordanlei/coco/annotations/instances_train2017.json' #path to the coco val annotations\n",
    "metadatapath = '../data/metadata/cocometadata_train.p' #path to metadata file (will create one if none exists)\n",
    "coco_dataset, metadata = coco_get_data(cocoroot, annpath, metadatapath, size = (100, 100), strength = strength, use_supercategory = True)\n",
    "train, val = get_train_val_split(coco_dataset)\n",
    "train_loader = DataLoader(train, batch_size = 32, shuffle = True, num_workers=4)\n",
    "val_loader = DataLoader(val, batch_size = 32, shuffle = True, num_workers=4)"
   ]
  },
  {
   "cell_type": "code",
   "execution_count": 5,
   "metadata": {},
   "outputs": [
    {
     "name": "stdout",
     "output_type": "stream",
     "text": [
      "Validating ...\n"
     ]
    },
    {
     "data": {
      "image/png": "[encoded data removed]",
      "text/plain": [
       "<Figure size 432x288 with 1 Axes>"
      ]
     },
     "metadata": {
      "needs_background": "light"
     },
     "output_type": "display_data"
    },
    {
     "name": "stdout",
     "output_type": "stream",
     "text": [
      "F1: 0.23337173630296137\n",
      "Acc 0.3190893169877408\n"
     ]
    }
   ],
   "source": [
    "val_acc, ground_truth, pred = runner.test(val_loader)\n",
    "print(\"Acc\", val_acc)"
   ]
  },
  {
   "cell_type": "code",
   "execution_count": 13,
   "metadata": {},
   "outputs": [
    {
     "data": {
      "text/plain": [
       "0.2737437145790336"
      ]
     },
     "execution_count": 13,
     "metadata": {},
     "output_type": "execute_result"
    }
   ],
   "source": [
    "def equal_weight_acc(truth, predictions): \n",
    "    indices = [truth == x for x in set(truth)]\n",
    "    return np.mean([(truth[i] == predictions[i]).mean() for i in indices])\n",
    "\n",
    "equal_weight_acc(ground_truth, pred)"
   ]
  },
  {
   "cell_type": "code",
   "execution_count": 7,
   "metadata": {},
   "outputs": [
    {
     "data": {
      "text/plain": [
       "19033"
      ]
     },
     "execution_count": 7,
     "metadata": {},
     "output_type": "execute_result"
    }
   ],
   "source": [
    "len(coco_dataset)"
   ]
  },
  {
   "cell_type": "code",
   "execution_count": 8,
   "metadata": {},
   "outputs": [
    {
     "data": {
      "text/plain": [
       "13323"
      ]
     },
     "execution_count": 8,
     "metadata": {},
     "output_type": "execute_result"
    }
   ],
   "source": [
    "len(train_loader.dataset)"
   ]
  },
  {
   "cell_type": "code",
   "execution_count": 9,
   "metadata": {},
   "outputs": [],
   "source": [
    "metric_files = [\"newcoco1.csv\"]"
   ]
  },
  {
   "cell_type": "code",
   "execution_count": 10,
   "metadata": {},
   "outputs": [
    {
     "data": {
      "text/html": [
       "<div>\n",
       "<style scoped>\n",
       "    .dataframe tbody tr th:only-of-type {\n",
       "        vertical-align: middle;\n",
       "    }\n",
       "\n",
       "    .dataframe tbody tr th {\n",
       "        vertical-align: top;\n",
       "    }\n",
       "\n",
       "    .dataframe thead th {\n",
       "        text-align: right;\n",
       "    }\n",
       "</style>\n",
       "<table border=\"1\" class=\"dataframe\">\n",
       "  <thead>\n",
       "    <tr style=\"text-align: right;\">\n",
       "      <th></th>\n",
       "      <th>Unnamed: 0</th>\n",
       "      <th>acc</th>\n",
       "      <th>f1</th>\n",
       "      <th>final_acc</th>\n",
       "      <th>loss</th>\n",
       "      <th>smooth_acc</th>\n",
       "      <th>smooth_f1</th>\n",
       "      <th>step</th>\n",
       "      <th>val_acc</th>\n",
       "      <th>val_f1</th>\n",
       "      <th>val_step</th>\n",
       "      <th>train_acc</th>\n",
       "      <th>convert_train</th>\n",
       "      <th>convert_train_steps</th>\n",
       "      <th>train_f1</th>\n",
       "      <th>final_f1</th>\n",
       "      <th>convert_val</th>\n",
       "      <th>convert_val_steps</th>\n",
       "    </tr>\n",
       "  </thead>\n",
       "  <tbody>\n",
       "    <tr>\n",
       "      <th>0</th>\n",
       "      <td>0</td>\n",
       "      <td>[0.25, 0.03125, 0.15625, 0.0, 0.15625, 0.0625,...</td>\n",
       "      <td>[0.07240143369175628, 0.007575757575757576, 0....</td>\n",
       "      <td>0.319089</td>\n",
       "      <td>[184.37957763671875, 12.279006958007812, 116.8...</td>\n",
       "      <td>[0.25, 0.140625, 0.14583333333333334, 0.109375...</td>\n",
       "      <td>[0.07240143369175628, 0.039988595633756924, 0....</td>\n",
       "      <td>[0, 0, 1, 1, 2, 2, 3, 3, 4, 4, 5, 5, 6, 6, 7, ...</td>\n",
       "      <td>[0.10989492119089317, 0.11033274956217162, 0.1...</td>\n",
       "      <td>[0.03150231808319046, 0.05322624543445518, 0.0...</td>\n",
       "      <td>[0, 417, 834, 1251, 1668, 2085, 2502, 2919, 33...</td>\n",
       "      <td>0.366278</td>\n",
       "      <td>[0.25, 0.140625, 0.14583333333333334, 0.109375...</td>\n",
       "      <td>[0.0, 0.0, 1.0, 1.0, 2.0, 2.0, 3.0, 3.0, 4.0, ...</td>\n",
       "      <td>0.250015</td>\n",
       "      <td>0.230445</td>\n",
       "      <td>[0.10989492119089317, 0.11033274956217162, 0.1...</td>\n",
       "      <td>[0.0, 417.0, 834.0, 1251.0, 1668.0, 2085.0, 25...</td>\n",
       "    </tr>\n",
       "  </tbody>\n",
       "</table>\n",
       "</div>"
      ],
      "text/plain": [
       "   Unnamed: 0                                                acc  \\\n",
       "0           0  [0.25, 0.03125, 0.15625, 0.0, 0.15625, 0.0625,...   \n",
       "\n",
       "                                                  f1  final_acc  \\\n",
       "0  [0.07240143369175628, 0.007575757575757576, 0....   0.319089   \n",
       "\n",
       "                                                loss  \\\n",
       "0  [184.37957763671875, 12.279006958007812, 116.8...   \n",
       "\n",
       "                                          smooth_acc  \\\n",
       "0  [0.25, 0.140625, 0.14583333333333334, 0.109375...   \n",
       "\n",
       "                                           smooth_f1  \\\n",
       "0  [0.07240143369175628, 0.039988595633756924, 0....   \n",
       "\n",
       "                                                step  \\\n",
       "0  [0, 0, 1, 1, 2, 2, 3, 3, 4, 4, 5, 5, 6, 6, 7, ...   \n",
       "\n",
       "                                             val_acc  \\\n",
       "0  [0.10989492119089317, 0.11033274956217162, 0.1...   \n",
       "\n",
       "                                              val_f1  \\\n",
       "0  [0.03150231808319046, 0.05322624543445518, 0.0...   \n",
       "\n",
       "                                            val_step  train_acc  \\\n",
       "0  [0, 417, 834, 1251, 1668, 2085, 2502, 2919, 33...   0.366278   \n",
       "\n",
       "                                       convert_train  \\\n",
       "0  [0.25, 0.140625, 0.14583333333333334, 0.109375...   \n",
       "\n",
       "                                 convert_train_steps  train_f1  final_f1  \\\n",
       "0  [0.0, 0.0, 1.0, 1.0, 2.0, 2.0, 3.0, 3.0, 4.0, ...  0.250015  0.230445   \n",
       "\n",
       "                                         convert_val  \\\n",
       "0  [0.10989492119089317, 0.11033274956217162, 0.1...   \n",
       "\n",
       "                                   convert_val_steps  \n",
       "0  [0.0, 417.0, 834.0, 1251.0, 1668.0, 2085.0, 25...  "
      ]
     },
     "execution_count": 10,
     "metadata": {},
     "output_type": "execute_result"
    }
   ],
   "source": [
    "df = files_to_df(metric_files)\n",
    "df.head()"
   ]
  },
  {
   "cell_type": "code",
   "execution_count": 31,
   "metadata": {},
   "outputs": [],
   "source": [
    "df = pd.read_csv(\"inhibition_score_mnist.csv\")"
   ]
  },
  {
   "cell_type": "code",
   "execution_count": 32,
   "metadata": {},
   "outputs": [
    {
     "data": {
      "image/png": "[encoded data removed]",
      "text/plain": [
       "<Figure size 720x360 with 1 Axes>"
      ]
     },
     "metadata": {},
     "output_type": "display_data"
    }
   ],
   "source": [
    "colors = [\"#d44e4e\", \"#0e4db3\"]\n",
    "sns.set_palette(sns.color_palette(colors))\n",
    "\n",
    "plt.figure(figsize=(10, 5))\n",
    "sns.set_style(\"white\")\n",
    "sns.set_context(\"poster\")\n",
    "sns.histplot(data = df, x = \"inhibition\", hue=\"condition\")\n",
    "plt.ylabel(\"Frequency\")\n",
    "plt.xlabel(\"Attention Gating (%)\")\n",
    "plt.legend([\"Attended\", \"Not Attended\"], bbox_to_anchor=(0., 1.02, 1., .102), loc='lower left',\n",
    "        ncol=2, mode=\"expand\", borderaxespad=0.)\n",
    "plt.savefig(\"graphs/inhibition_mnist.svg\")"
   ]
  },
  {
   "cell_type": "code",
   "execution_count": 29,
   "metadata": {},
   "outputs": [
    {
     "data": {
      "text/plain": [
       "<Figure size 432x288 with 0 Axes>"
      ]
     },
     "metadata": {},
     "output_type": "display_data"
    }
   ],
   "source": []
  }
 ],
 "metadata": {
  "kernelspec": {
   "display_name": "Python 3",
   "language": "python",
   "name": "python3"
  },
  "language_info": {
   "codemirror_mode": {
    "name": "ipython",
    "version": 3
   },
   "file_extension": ".py",
   "mimetype": "text/x-python",
   "name": "python",
   "nbconvert_exporter": "python",
   "pygments_lexer": "ipython3",
   "version": "3.7.4"
  }
 },
 "nbformat": 4,
 "nbformat_minor": 2
}
