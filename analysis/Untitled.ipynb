{
 "cells": [
  {
   "cell_type": "code",
   "execution_count": 1,
   "metadata": {},
   "outputs": [],
   "source": [
    "from visualizations import *\n",
    "from graphs import *"
   ]
  },
  {
   "cell_type": "code",
   "execution_count": 88,
   "metadata": {},
   "outputs": [
    {
     "name": "stdout",
     "output_type": "stream",
     "text": [
      "MNIST Object Based Attention Model v2\n",
      "../mnist\n",
      "Data Loaded:\n",
      "\tTraining Samples:  42000\n",
      "\tValidation Samples:  18000\n",
      "\tTesting Samples:  10000\n",
      "\tObjects:  2 \tStrength:  0.2 \tNoise:  0.3 \tResample:  True\n"
     ]
    }
   ],
   "source": [
    "modelpath = \"../saved/models/paper_mnist_model.pt\" #path to the saved model\n",
    "modeltype = \"mnist\" #type of model: 'mnist' or 'coco'\n",
    "n = 2 #number of objects\n",
    "strength = 0.2 #strength of attention\n",
    "net, runner, test_loader = load_model_and_data(modelpath, n = n, strength = strength, modeltype = modeltype)"
   ]
  },
  {
   "cell_type": "code",
   "execution_count": 2,
   "metadata": {},
   "outputs": [
    {
     "name": "stdout",
     "output_type": "stream",
     "text": [
      "COCO Object-Based Attention Model v3\n",
      "loading annotations into memory...\n",
      "Done (t=0.57s)\n",
      "creating index...\n",
      "index created!\n"
     ]
    }
   ],
   "source": [
    "modelpath = \"../saved/models/paper_coco_model.pt\" #path to the saved model\n",
    "modeltype = \"coco\" #type of model: 'mnist' or 'coco'\n",
    "cocoroot = '../../../../data/jordanlei/coco/images/val2017' #path to the coco val dataset\n",
    "annpath = '../../../../data/jordanlei/coco/annotations/instances_val2017.json' #path to the coco val annotations\n",
    "metadatapath = '../data/metadata/cocometadata_test.p' #path to metadata file (will create one if none exists)\n",
    "\n",
    "n = 2 #number of objects\n",
    "strength = 0.9 #strength of attention\n",
    "net, runner, test_loader = load_model_and_data(modelpath, n = n, strength = strength, modeltype = modeltype,\\\n",
    "                                               cocoroot = cocoroot, annpath = annpath, metadatapath = metadatapath)"
   ]
  },
  {
   "cell_type": "code",
   "execution_count": 97,
   "metadata": {},
   "outputs": [
    {
     "name": "stdout",
     "output_type": "stream",
     "text": [
      "0\n",
      "333\n",
      "666\n",
      "999\n",
      "1332\n",
      "1665\n",
      "1998\n",
      "2331\n",
      "2664\n",
      "2997\n",
      "3330\n",
      "3663\n",
      "3996\n",
      "4329\n",
      "4662\n",
      "4995\n",
      "5328\n",
      "5661\n",
      "5994\n",
      "6327\n",
      "6660\n",
      "6993\n",
      "7326\n",
      "7659\n",
      "7992\n",
      "8325\n",
      "8658\n",
      "8991\n",
      "9324\n",
      "9657\n",
      "9990\n"
     ]
    }
   ],
   "source": [
    "loader = DataLoader(test_loader.dataset, batch_size = 1, shuffle = True, num_workers=4)\n",
    "n = 2\n",
    "\n",
    "\n",
    "inhibiteds = []\n",
    "not_inhibiteds = []\n",
    "\n",
    "for i, (x, data, labels) in enumerate(loader):\n",
    "    masks, hiddens, ior, selects_x = runner.visualize(x, data, labels)\n",
    "    x = x.detach().cpu().numpy()\n",
    "    \n",
    "    inhibited = 0\n",
    "    not_inhibited = 0\n",
    "    \n",
    "    for k in range(n):\n",
    "        mask = masks[k]\n",
    "        hidden = hiddens[k]\n",
    "        selectx = selects_x[k]\n",
    "        \n",
    "        targethidden = ((x - selectx + 0.000001) / (x + 0.000001)) / strength\n",
    "        targethidden = (targethidden > 0.5)\n",
    "        \n",
    "        inhibited += np.mean(hidden[targethidden])\n",
    "        not_inhibited += np.mean(hidden[np.logical_not(targethidden)])\n",
    "    \n",
    "    inhibiteds.append(inhibited / n)\n",
    "    not_inhibiteds.append(not_inhibited / n)\n",
    "    \n",
    "    if i % int(len(loader) / 30) == 0: \n",
    "        print(i)\n",
    "    "
   ]
  },
  {
   "cell_type": "code",
   "execution_count": 98,
   "metadata": {},
   "outputs": [
    {
     "data": {
      "text/plain": [
       "5"
      ]
     },
     "execution_count": 98,
     "metadata": {},
     "output_type": "execute_result"
    }
   ],
   "source": [
    "5 % int(len(loader) / 30)"
   ]
  },
  {
   "cell_type": "code",
   "execution_count": 99,
   "metadata": {},
   "outputs": [
    {
     "name": "stdout",
     "output_type": "stream",
     "text": [
      "0.9072873575866223\n",
      "0.11135004015021113\n"
     ]
    }
   ],
   "source": [
    "print(np.mean(inhibiteds))\n",
    "print(np.mean(not_inhibiteds))"
   ]
  },
  {
   "cell_type": "code",
   "execution_count": 104,
   "metadata": {},
   "outputs": [],
   "source": [
    "values = inhibiteds + not_inhibiteds\n",
    "labels = [\"Not Attended\"]*len(inhibiteds) + [\"Attended\"]*len(not_inhibiteds)\n",
    "\n",
    "df = pd.DataFrame({\"inhibition\": values, \"condition\": labels})"
   ]
  },
  {
   "cell_type": "code",
   "execution_count": 109,
   "metadata": {},
   "outputs": [
    {
     "data": {
      "text/plain": [
       "Text(0, 0.5, 'Attention-Modulated Gating (%)')"
      ]
     },
     "execution_count": 109,
     "metadata": {},
     "output_type": "execute_result"
    },
    {
     "data": {
      "image/png": "[encoded data removed]",
      "text/plain": [
       "<Figure size 360x720 with 1 Axes>"
      ]
     },
     "metadata": {
      "needs_background": "light"
     },
     "output_type": "display_data"
    }
   ],
   "source": [
    "plt.figure(figsize=(5, 10))\n",
    "sns.set_context(\"poster\")\n",
    "sns.barplot(data = df, x = \"condition\", y = \"inhibition\", capsize=.2)\n",
    "plt.xlabel(\"Condition\")\n",
    "plt.ylabel(\"Attention-Modulated Gating (%)\")"
   ]
  },
  {
   "cell_type": "code",
   "execution_count": 79,
   "metadata": {},
   "outputs": [
    {
     "data": {
      "text/plain": [
       "0.6075254734778333"
      ]
     },
     "execution_count": 79,
     "metadata": {},
     "output_type": "execute_result"
    }
   ],
   "source": [
    "np.mean(not_inhibiteds)"
   ]
  },
  {
   "cell_type": "code",
   "execution_count": 51,
   "metadata": {},
   "outputs": [
    {
     "data": {
      "text/plain": [
       "(807252,)"
      ]
     },
     "execution_count": 51,
     "metadata": {},
     "output_type": "execute_result"
    }
   ],
   "source": [
    "hidden[targethidden].shape"
   ]
  },
  {
   "cell_type": "code",
   "execution_count": 52,
   "metadata": {},
   "outputs": [
    {
     "data": {
      "text/plain": [
       "(32, 3, 100, 100)"
      ]
     },
     "execution_count": 52,
     "metadata": {},
     "output_type": "execute_result"
    }
   ],
   "source": [
    "targethidden.shape"
   ]
  },
  {
   "cell_type": "code",
   "execution_count": 38,
   "metadata": {},
   "outputs": [
    {
     "data": {
      "text/plain": [
       "785877"
      ]
     },
     "execution_count": 38,
     "metadata": {},
     "output_type": "execute_result"
    }
   ],
   "source": [
    "np.sum(targethidden > 0.5)"
   ]
  },
  {
   "cell_type": "code",
   "execution_count": 39,
   "metadata": {},
   "outputs": [
    {
     "data": {
      "text/plain": [
       "772957"
      ]
     },
     "execution_count": 39,
     "metadata": {},
     "output_type": "execute_result"
    }
   ],
   "source": [
    "len(attended_val)"
   ]
  },
  {
   "cell_type": "code",
   "execution_count": 70,
   "metadata": {},
   "outputs": [
    {
     "data": {
      "text/plain": [
       "1.7284348011016846"
      ]
     },
     "execution_count": 70,
     "metadata": {},
     "output_type": "execute_result"
    }
   ],
   "source": [
    "inhibited"
   ]
  },
  {
   "cell_type": "code",
   "execution_count": 71,
   "metadata": {},
   "outputs": [
    {
     "data": {
      "text/plain": [
       "0.7561932913959026"
      ]
     },
     "execution_count": 71,
     "metadata": {},
     "output_type": "execute_result"
    }
   ],
   "source": [
    "not_inhibited"
   ]
  },
  {
   "cell_type": "code",
   "execution_count": 68,
   "metadata": {},
   "outputs": [
    {
     "data": {
      "text/plain": [
       "0.50263965"
      ]
     },
     "execution_count": 68,
     "metadata": {},
     "output_type": "execute_result"
    }
   ],
   "source": [
    "not_inhibited_val"
   ]
  },
  {
   "cell_type": "code",
   "execution_count": null,
   "metadata": {},
   "outputs": [],
   "source": []
  }
 ],
 "metadata": {
  "kernelspec": {
   "display_name": "Python 3",
   "language": "python",
   "name": "python3"
  },
  "language_info": {
   "codemirror_mode": {
    "name": "ipython",
    "version": 3
   },
   "file_extension": ".py",
   "mimetype": "text/x-python",
   "name": "python",
   "nbconvert_exporter": "python",
   "pygments_lexer": "ipython3",
   "version": "3.7.4"
  }
 },
 "nbformat": 4,
 "nbformat_minor": 2
}
