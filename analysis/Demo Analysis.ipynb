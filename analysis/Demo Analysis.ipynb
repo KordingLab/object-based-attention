{
 "cells": [
  {
   "cell_type": "code",
   "execution_count": 1,
   "metadata": {},
   "outputs": [],
   "source": [
    "from visualizations import *\n",
    "from graphs import *"
   ]
  },
  {
   "cell_type": "markdown",
   "metadata": {},
   "source": [
    "# Part 1. Visualize Attention"
   ]
  },
  {
   "cell_type": "markdown",
   "metadata": {},
   "source": [
    "## 1.1. Choose a Model to Load\n",
    "### Load MNIST Model"
   ]
  },
  {
   "cell_type": "code",
   "execution_count": null,
   "metadata": {},
   "outputs": [],
   "source": [
    "modelpath = \"../saved/models/paper_mnist_model.pt\" #path to the saved model\n",
    "modeltype = \"mnist\" #type of model: 'mnist' or 'coco'\n",
    "n = 2 #number of objects\n",
    "strength = 0.2 #strength of attention\n",
    "net, runner, test_loader = load_model_and_data(modelpath, n = n, strength = strength, modeltype = modeltype)"
   ]
  },
  {
   "cell_type": "markdown",
   "metadata": {},
   "source": [
    "### ... OR Load COCO Model"
   ]
  },
  {
   "cell_type": "code",
   "execution_count": 2,
   "metadata": {},
   "outputs": [
    {
     "name": "stdout",
     "output_type": "stream",
     "text": [
      "COCO Object-Based Attention Model v3\n",
      "loading annotations into memory...\n",
      "Done (t=0.73s)\n",
      "creating index...\n",
      "index created!\n"
     ]
    }
   ],
   "source": [
    "modelpath = \"../saved/models/paper_coco_model.pt\" #path to the saved model\n",
    "modeltype = \"coco\" #type of model: 'mnist' or 'coco'\n",
    "cocoroot = '../../../../data/jordanlei/coco/images/val2017' #path to the coco val dataset\n",
    "annpath = '../../../../data/jordanlei/coco/annotations/instances_val2017.json' #path to the coco val annotations\n",
    "metadatapath = '../data/metadata/cocometadata_test.p' #path to metadata file (will create one if none exists)\n",
    "\n",
    "n = 2 #number of objects\n",
    "strength = 0.9 #strength of attention\n",
    "net, runner, test_loader = load_model_and_data(modelpath, n = n, strength = strength, modeltype = modeltype,\\\n",
    "                                               cocoroot = cocoroot, annpath = annpath, metadatapath = metadatapath)"
   ]
  },
  {
   "cell_type": "markdown",
   "metadata": {},
   "source": [
    "## Step 1.2 Show Images"
   ]
  },
  {
   "cell_type": "code",
   "execution_count": null,
   "metadata": {},
   "outputs": [],
   "source": [
    "for i, (x, data, labels) in enumerate(test_loader):\n",
    "    print(\"INPUT IMAGE\")\n",
    "    toshow(x[0].detach().cpu().numpy())\n",
    "    masks, hiddens, ior, _ = runner.visualize(x, data, labels)\n",
    "    \n",
    "    for j, mask in enumerate(masks): \n",
    "        hidden = hiddens[j]\n",
    "        ior_mask = ior[j]\n",
    "        \n",
    "        print(\"PHASE %s\"%(j + 1))\n",
    "        print(\"\\tmasked input\")\n",
    "        toshow(mask[0])\n",
    "        print(\"\\tattention mask\")\n",
    "        toshow(hidden[0])\n",
    "        print(\"\\tIOR (for next phase)\")\n",
    "        toshow(ior_mask[0] * 1.0)\n",
    "    break"
   ]
  },
  {
   "cell_type": "markdown",
   "metadata": {},
   "source": [
    "# Part 2. Plot Graphs"
   ]
  },
  {
   "cell_type": "code",
   "execution_count": null,
   "metadata": {},
   "outputs": [],
   "source": [
    "metric_files = [\"model2.csv\", \"model3.csv\", \"model4.csv\", \"model5.csv\"]"
   ]
  },
  {
   "cell_type": "code",
   "execution_count": null,
   "metadata": {},
   "outputs": [],
   "source": [
    "df = files_to_df(metric_files)\n",
    "df.groupby([\"lr\",\"penalty\"])[\"final_acc\"].mean().unstack()"
   ]
  },
  {
   "cell_type": "code",
   "execution_count": null,
   "metadata": {},
   "outputs": [],
   "source": [
    "df = df[df[\"lr\"] == 0.001]\n",
    "plot_boxplots(df, save = False)"
   ]
  },
  {
   "cell_type": "code",
   "execution_count": null,
   "metadata": {},
   "outputs": [],
   "source": []
  }
 ],
 "metadata": {
  "kernelspec": {
   "display_name": "Python (jordan_env)",
   "language": "python",
   "name": "jordan_env"
  },
  "language_info": {
   "codemirror_mode": {
    "name": "ipython",
    "version": 3
   },
   "file_extension": ".py",
   "mimetype": "text/x-python",
   "name": "python",
   "nbconvert_exporter": "python",
   "pygments_lexer": "ipython3",
   "version": "3.7.4"
  }
 },
 "nbformat": 4,
 "nbformat_minor": 2
}
